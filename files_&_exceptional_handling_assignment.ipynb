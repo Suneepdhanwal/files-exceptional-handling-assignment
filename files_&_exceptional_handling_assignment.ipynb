{
  "nbformat": 4,
  "nbformat_minor": 0,
  "metadata": {
    "colab": {
      "provenance": []
    },
    "kernelspec": {
      "name": "python3",
      "display_name": "Python 3"
    },
    "language_info": {
      "name": "python"
    }
  },
  "cells": [
    {
      "cell_type": "markdown",
      "source": [
        "## **Theory Question**"
      ],
      "metadata": {
        "id": "bkSi7a_P5nlv"
      }
    },
    {
      "cell_type": "markdown",
      "source": [
        "**Ques.1** What is the difference between interpreted and compiled languages?\n",
        "\n",
        "**Ans.1** Interpreted languages are executed line-by-line by an interpreter at runtime. Examples include Python, JavaScript, and Ruby. Compiled languages are translated into machine code by a compiler before execution, making them faster. Examples include C, C++, and Rust."
      ],
      "metadata": {
        "id": "7gi_8MBq5niv"
      }
    },
    {
      "cell_type": "markdown",
      "source": [
        "**Ques.2** What is exception handling in Python?\n",
        "\n",
        "**Ans.2** Exception handling in Python involves using try, except, else, and finally blocks to gracefully handle errors and exceptions that occur during program execution, ensuring the program doesn't crash."
      ],
      "metadata": {
        "id": "BWUpxmXK5nf3"
      }
    },
    {
      "cell_type": "markdown",
      "source": [
        "**Ques.3** What is the purpose of the finally block in exception handling?\n",
        "\n",
        "**Ans.3** The finally block in Python is used to execute code that must run regardless of whether an exception occurs or not. It's typically used for clean-up actions like closing files or releasing resources."
      ],
      "metadata": {
        "id": "muu_ve3i5ndH"
      }
    },
    {
      "cell_type": "markdown",
      "source": [
        "**Ques.4** What is logging in Python?\n",
        "\n",
        "**Ans.4** Logging in Python is a means of tracking events that happen when the software runs. The logging module allows you to record messages of different severity levels, which can help with debugging and monitoring the application."
      ],
      "metadata": {
        "id": "U5Xh0ngO5naP"
      }
    },
    {
      "cell_type": "markdown",
      "source": [
        "**Ques.5** What is the significance of the _ _ _del_ _ _ method in Python?\n",
        "\n",
        "**Ans.5** The _ _ _del_ _ _ method in Python is a destructor method that is called when an object is about to be destroyed. It allows for clean-up actions, like releasing resources or memory, before the object is removed from memory."
      ],
      "metadata": {
        "id": "BBes99RL5nXf"
      }
    },
    {
      "cell_type": "markdown",
      "source": [
        "**Ques.6** What is the difference between import and from ... import in Python?\n",
        "\n",
        "**Ans.6**\n",
        "\n",
        "import module imports the entire module, accessed with module.function().\n",
        "\n",
        "from module import function imports specific functions or classes, used directly without the module prefix."
      ],
      "metadata": {
        "id": "dQV7dMeE5nUf"
      }
    },
    {
      "cell_type": "markdown",
      "source": [
        "**Ques.7** How can you handle multiple exceptions in Python?\n",
        "\n",
        "**Ans.7**\n",
        "Use a tuple in the except block:"
      ],
      "metadata": {
        "id": "S8QyQJUn5nR5"
      }
    },
    {
      "cell_type": "code",
      "source": [
        "try:\n",
        "    # Code that may raise an exception\n",
        "    # For example:\n",
        "    x = 1 / 0\n",
        "except (ZeroDivisionError, TypeError) as e:\n",
        "    # Handle exceptions\n",
        "    print(f\"An error occurred: {e}\")"
      ],
      "metadata": {
        "colab": {
          "base_uri": "https://localhost:8080/"
        },
        "id": "I5LrFyjT-idY",
        "outputId": "5a3ce2a2-08cc-4b3e-d5e2-5bc55b6a9e92"
      },
      "execution_count": null,
      "outputs": [
        {
          "output_type": "stream",
          "name": "stdout",
          "text": [
            "An error occurred: division by zero\n"
          ]
        }
      ]
    },
    {
      "cell_type": "markdown",
      "source": [
        "**Ques.8** What is the purpose of the with statement when handling files in Python?\n",
        "\n",
        "**Ans.8** The with statement ensures proper file handling by automatically opening and closing files, even if an exception occurs:"
      ],
      "metadata": {
        "id": "HKrV_sXv5nPG"
      }
    },
    {
      "cell_type": "code",
      "source": [
        "try:\n",
        "    with open('file.txt', 'r') as file:\n",
        "        data = file.read()\n",
        "except FileNotFoundError:\n",
        "    print(\"The file 'file.txt' was not found. Please check the file path or create the file.\")"
      ],
      "metadata": {
        "colab": {
          "base_uri": "https://localhost:8080/"
        },
        "id": "P6qI99wB_Pxg",
        "outputId": "2546d091-b608-407e-df82-96ea3a346e38"
      },
      "execution_count": null,
      "outputs": [
        {
          "output_type": "stream",
          "name": "stdout",
          "text": [
            "The file 'file.txt' was not found. Please check the file path or create the file.\n"
          ]
        }
      ]
    },
    {
      "cell_type": "markdown",
      "source": [
        "**Ques.9** What is the difference between multithreading and multiprocessing?\n",
        "\n",
        "**Ans.9** Multithreading: Multiple threads run concurrently within the same process, sharing the same memory space.\n",
        "\n",
        "Multiprocessing: Multiple processes run independently with separate memory spaces, useful for CPU-bound tasks."
      ],
      "metadata": {
        "id": "Pn2XeARl5nMf"
      }
    },
    {
      "cell_type": "markdown",
      "source": [
        "**Ques.10** What are the advantages of using logging in a program?\n",
        "\n",
        "**Ans.10** Helps with debugging, tracks events, allows for different message severity levels, and can direct logs to various output targets."
      ],
      "metadata": {
        "id": "6iCZ_5gs5nJ3"
      }
    },
    {
      "cell_type": "markdown",
      "source": [
        "**Ques.11** What is memory management in Python?\n",
        "\n",
        "**Ans.11** Involves allocation and deallocation of memory, using an automatic garbage collection system for efficient memory usage."
      ],
      "metadata": {
        "id": "Q0ZSvGo-5nG_"
      }
    },
    {
      "cell_type": "markdown",
      "source": [
        "**Ques.12** What are the basic steps involved in exception handling in Python?\n",
        "\n",
        "**Ans.12** Try block: Wraps code that may raise an exception.\n",
        "\n",
        "Except block: Catches and handles specific exceptions.\n",
        "\n",
        "Else block: Executes code if no exceptions are raised.\n",
        "\n",
        "Finally block: Executes code regardless of an exception."
      ],
      "metadata": {
        "id": "tjMovE1h5nEP"
      }
    },
    {
      "cell_type": "markdown",
      "source": [
        "**Ques.13** Why is memory management important in Python?\n",
        "\n",
        "**Ans.13** Prevents memory leaks, optimizes performance, and ensures efficient use of resources in long-running or resource-intensive applications."
      ],
      "metadata": {
        "id": "B1C53iqh5nBh"
      }
    },
    {
      "cell_type": "markdown",
      "source": [
        "**Ques.14** What is the role of try and except in exception handling?\n",
        "\n",
        "**Ans.14** Try block: Contains code that may raise an exception.\n",
        "\n",
        "Except block: Catches and handles specific exceptions."
      ],
      "metadata": {
        "id": "tqd0efeV5m-n"
      }
    },
    {
      "cell_type": "markdown",
      "source": [
        "**Ques.15** How does Python's garbage collection system work?\n",
        "\n",
        "**Ans.15** Uses reference counting and a cyclic garbage collector to manage memory, deallocating objects when their reference count drops to zero."
      ],
      "metadata": {
        "id": "6eV7vMZP_-c_"
      }
    },
    {
      "cell_type": "markdown",
      "source": [
        "**Ques.16** What is the purpose of the else block in exception handling?\n",
        "\n",
        "**Ans.16** Executes code if no exceptions are raised in the try block, providing a clear separation between code that might raise an exception and code that runs if all goes well."
      ],
      "metadata": {
        "id": "HSHlDqf3_-N4"
      }
    },
    {
      "cell_type": "markdown",
      "source": [
        "**Ques.17** What are the common logging levels in Python?\n",
        "\n",
        "**Ans.17** DEBUG: Detailed information for diagnosing problems.\n",
        "\n",
        "INFO: Confirmation that things are working as expected.\n",
        "\n",
        "WARNING: Indication of potential future issues.\n",
        "\n",
        "ERROR: Serious problems affecting program continuation.\n",
        "\n",
        "CRITICAL: Very serious errors possibly leading to program termination."
      ],
      "metadata": {
        "id": "8_9Rypiz_-K3"
      }
    },
    {
      "cell_type": "markdown",
      "source": [
        "**Ques.18** What is the difference between os.fork() and multiprocessing in Python?\n",
        "\n",
        "**Ans.18** os.fork(): Creates a new child process by duplicating the parent process, specific to Unix.\n",
        "\n",
        "Multiprocessing module: Provides a higher-level interface for creating and managing processes across different platforms."
      ],
      "metadata": {
        "id": "r9TUYGAN_-H3"
      }
    },
    {
      "cell_type": "markdown",
      "source": [
        "**Ques.19** What is the importance of closing a file in Python?\n",
        "\n",
        "**Ans.19** Releases system resources, ensures data is properly written to disk, and prevents data corruption and memory leaks."
      ],
      "metadata": {
        "id": "Aous0r-o_-FH"
      }
    },
    {
      "cell_type": "markdown",
      "source": [
        "**Ques.20** What is the difference between file.read() and file.readline() in Python?\n",
        "\n",
        "**Ans.20** file.read(): Reads the entire file's contents into a single string.\n",
        "\n",
        "file.readline(): Reads the next line from the file, returning it as a string."
      ],
      "metadata": {
        "id": "qUlgut7u_-CI"
      }
    },
    {
      "cell_type": "markdown",
      "source": [
        "**Ques.21** What is the logging module in Python used for?\n",
        "\n",
        "**Ans.21** Tracks events during execution, records messages of varying severity levels, and directs logs to different destinations like files or consoles."
      ],
      "metadata": {
        "id": "sb0pfYoL_9oA"
      }
    },
    {
      "cell_type": "markdown",
      "source": [
        "**Ques.22** What is the os module in Python used for in file handling?\n",
        "\n",
        "**Ans.22** Provides functions for interacting with the operating system, including creating, removing, and changing directories, as well as reading and writing files."
      ],
      "metadata": {
        "id": "LE5VqnDjAq5g"
      }
    },
    {
      "cell_type": "markdown",
      "source": [
        "**Ques.23** What are the challenges associated with memory management in Python?\n",
        "\n",
        "**Ans.23** Managing references to objects, avoiding memory leaks, handling large data sets efficiently, and dealing with garbage collection overhead."
      ],
      "metadata": {
        "id": "pl1Dl0tlAqbg"
      }
    },
    {
      "cell_type": "markdown",
      "source": [
        "**Ques.24** How do you raise an exception manually in Python?\n",
        "\n",
        "Use the raise keyword:"
      ],
      "metadata": {
        "id": "b0N12Nd6Appg"
      }
    },
    {
      "cell_type": "code",
      "source": [
        "raise Exception(\"Error message\")"
      ],
      "metadata": {
        "id": "ZDHUR6poA8DQ"
      },
      "execution_count": null,
      "outputs": []
    },
    {
      "cell_type": "markdown",
      "source": [
        "**Ques.25** Why is it important to use multithreading in certain applications?\n",
        "\n",
        "**Ans.25** Improves performance in I/O-bound tasks, allows concurrent execution, enhances responsiveness in GUI applications, and utilizes multiple CPU cores for parallel processing."
      ],
      "metadata": {
        "id": "Iq8IF-dVA_NA"
      }
    },
    {
      "cell_type": "markdown",
      "source": [
        "# **Practical Questions**"
      ],
      "metadata": {
        "id": "LGXQPc-kBQ3A"
      }
    },
    {
      "cell_type": "markdown",
      "source": [
        "**Ques.1** How can you open a file for writing in Python and write a string to it?\n",
        "\n",
        "**Ans.1** You can open a file for writing using the open() function with the 'w' mode and use the write() method to write a string to it:"
      ],
      "metadata": {
        "id": "eB5jFlUFBiJI"
      }
    },
    {
      "cell_type": "code",
      "source": [
        "with open('file.txt', 'w') as file:\n",
        "    file.write('Hello, world!')\n"
      ],
      "metadata": {
        "id": "_nGAhGj65mwn"
      },
      "execution_count": null,
      "outputs": []
    },
    {
      "cell_type": "markdown",
      "source": [
        "**Ques.2** Write a Python program to read the contents of a file and print each line.\n",
        "\n",
        "**Ans.2** You can use the open() function with the 'r' mode and a loop to read and print each line:"
      ],
      "metadata": {
        "id": "uMzvtx4jBu8v"
      }
    },
    {
      "cell_type": "code",
      "source": [
        "with open('file.txt', 'r') as file:\n",
        "    for line in file:\n",
        "        print(line.strip())\n"
      ],
      "metadata": {
        "colab": {
          "base_uri": "https://localhost:8080/"
        },
        "id": "R7nMovLS5moH",
        "outputId": "44b22772-5874-4eed-e90a-df075d8e2b38"
      },
      "execution_count": null,
      "outputs": [
        {
          "output_type": "stream",
          "name": "stdout",
          "text": [
            "Hello, world!\n"
          ]
        }
      ]
    },
    {
      "cell_type": "markdown",
      "source": [
        "**Ques.3** How would you handle a case where the file doesn't exist while trying to open it for reading?\n",
        "\n",
        "**Ans.3** Use a try-except block to handle the FileNotFoundError:"
      ],
      "metadata": {
        "id": "ZMExJLzyB4jQ"
      }
    },
    {
      "cell_type": "code",
      "source": [
        "try:\n",
        "    with open('non_existent_file.txt', 'r') as file:\n",
        "        content = file.read()\n",
        "except FileNotFoundError:\n",
        "    print(\"File not found.\")\n"
      ],
      "metadata": {
        "colab": {
          "base_uri": "https://localhost:8080/"
        },
        "id": "JTKWI1OyB4Sw",
        "outputId": "1acbd36b-95d7-44bb-b3d4-a77afcd908c2"
      },
      "execution_count": null,
      "outputs": [
        {
          "output_type": "stream",
          "name": "stdout",
          "text": [
            "File not found.\n"
          ]
        }
      ]
    },
    {
      "cell_type": "markdown",
      "source": [
        "**Ques.4** Write a Python script that reads from one file and writes its content to another file.\n",
        "\n",
        "**Ans.4** Use the open() function to read from one file and write to another file:"
      ],
      "metadata": {
        "id": "qMnruvGxCCnY"
      }
    },
    {
      "cell_type": "code",
      "execution_count": null,
      "metadata": {
        "colab": {
          "base_uri": "https://localhost:8080/",
          "height": 211
        },
        "id": "sniA72pw5Ce4",
        "outputId": "f1fe4178-ef08-4c41-c64b-c20c677c5080"
      },
      "outputs": [
        {
          "output_type": "error",
          "ename": "FileNotFoundError",
          "evalue": "[Errno 2] No such file or directory: 'source.txt'",
          "traceback": [
            "\u001b[0;31m---------------------------------------------------------------------------\u001b[0m",
            "\u001b[0;31mFileNotFoundError\u001b[0m                         Traceback (most recent call last)",
            "\u001b[0;32m<ipython-input-28-b5c4bdb312e8>\u001b[0m in \u001b[0;36m<cell line: 0>\u001b[0;34m()\u001b[0m\n\u001b[1;32m      1\u001b[0m \u001b[0;31m# Open the source file in read mode and the destination file in write mode\u001b[0m\u001b[0;34m\u001b[0m\u001b[0;34m\u001b[0m\u001b[0m\n\u001b[0;32m----> 2\u001b[0;31m \u001b[0;32mwith\u001b[0m \u001b[0mopen\u001b[0m\u001b[0;34m(\u001b[0m\u001b[0;34m'source.txt'\u001b[0m\u001b[0;34m,\u001b[0m \u001b[0;34m'r'\u001b[0m\u001b[0;34m)\u001b[0m \u001b[0;32mas\u001b[0m \u001b[0msource_file\u001b[0m\u001b[0;34m:\u001b[0m\u001b[0;34m\u001b[0m\u001b[0;34m\u001b[0m\u001b[0m\n\u001b[0m\u001b[1;32m      3\u001b[0m     \u001b[0mcontent\u001b[0m \u001b[0;34m=\u001b[0m \u001b[0msource_file\u001b[0m\u001b[0;34m.\u001b[0m\u001b[0mread\u001b[0m\u001b[0;34m(\u001b[0m\u001b[0;34m)\u001b[0m  \u001b[0;31m# Read the entire content of the source file\u001b[0m\u001b[0;34m\u001b[0m\u001b[0;34m\u001b[0m\u001b[0m\n\u001b[1;32m      4\u001b[0m \u001b[0;34m\u001b[0m\u001b[0m\n\u001b[1;32m      5\u001b[0m \u001b[0;32mwith\u001b[0m \u001b[0mopen\u001b[0m\u001b[0;34m(\u001b[0m\u001b[0;34m'destination.txt'\u001b[0m\u001b[0;34m,\u001b[0m \u001b[0;34m'w'\u001b[0m\u001b[0;34m)\u001b[0m \u001b[0;32mas\u001b[0m \u001b[0mdestination_file\u001b[0m\u001b[0;34m:\u001b[0m\u001b[0;34m\u001b[0m\u001b[0;34m\u001b[0m\u001b[0m\n",
            "\u001b[0;31mFileNotFoundError\u001b[0m: [Errno 2] No such file or directory: 'source.txt'"
          ]
        }
      ],
      "source": [
        "# Open the source file in read mode and the destination file in write mode\n",
        "with open('source.txt', 'r') as source_file:\n",
        "    content = source_file.read()  # Read the entire content of the source file\n",
        "\n",
        "with open('destination.txt', 'w') as destination_file:\n",
        "    destination_file.write(content)  # Write the content to the destination file\n",
        "\n",
        "print(\"Content successfully copied from source.txt to destination.txt.\")\n"
      ]
    },
    {
      "cell_type": "markdown",
      "source": [
        "**Ques.5** How would you catch and handle division by zero error in Python?\n",
        "\n",
        "**Ans.5** Use a try-except block to catch the ZeroDivisionError:"
      ],
      "metadata": {
        "id": "QIkgqdvf1U59"
      }
    },
    {
      "cell_type": "code",
      "source": [
        "try:\n",
        "    result = 10 / 0\n",
        "except ZeroDivisionError:\n",
        "    print(\"Cannot divide by zero.\")\n"
      ],
      "metadata": {
        "colab": {
          "base_uri": "https://localhost:8080/"
        },
        "id": "ENhVhB6R1jHW",
        "outputId": "cbc023dd-510a-419f-a1df-e0a30cef658a"
      },
      "execution_count": null,
      "outputs": [
        {
          "output_type": "stream",
          "name": "stdout",
          "text": [
            "Cannot divide by zero.\n"
          ]
        }
      ]
    },
    {
      "cell_type": "markdown",
      "source": [
        "**Ques.6** Write a Python program that logs an error message to a log file when a division by zero exception occurs.\n",
        "\n",
        "**Ans.6** Use the logging module to log the error message:"
      ],
      "metadata": {
        "id": "slIIB8QX1U11"
      }
    },
    {
      "cell_type": "code",
      "source": [
        "import logging\n",
        "\n",
        "logging.basicConfig(filename='app.log', level=logging.ERROR)\n",
        "\n",
        "try:\n",
        "    result = 10 / 0\n",
        "except ZeroDivisionError as e:\n",
        "    logging.error(\"Division by zero error: %s\", e)\n"
      ],
      "metadata": {
        "colab": {
          "base_uri": "https://localhost:8080/"
        },
        "id": "Y-vtP0eW15I9",
        "outputId": "c4dd3726-d9fe-47cc-e3be-8b7ab8713efc"
      },
      "execution_count": null,
      "outputs": [
        {
          "output_type": "stream",
          "name": "stderr",
          "text": [
            "ERROR:root:Division by zero error: division by zero\n"
          ]
        }
      ]
    },
    {
      "cell_type": "markdown",
      "source": [
        "**Ques.7** How do you log information at different levels (INFO, ERROR, WARNING) in Python using the logging module?\n",
        "\n",
        "**Ans.7** Use the logging module and its various logging levels:"
      ],
      "metadata": {
        "id": "UNwOwAum1Uxl"
      }
    },
    {
      "cell_type": "code",
      "source": [
        "import logging\n",
        "\n",
        "logging.basicConfig(level=logging.DEBUG)\n",
        "\n",
        "logging.info(\"This is an info message.\")\n",
        "logging.warning(\"This is a warning message.\")\n",
        "logging.error(\"This is an error message.\")\n"
      ],
      "metadata": {
        "colab": {
          "base_uri": "https://localhost:8080/"
        },
        "id": "yyQKOIUW2CLm",
        "outputId": "d34a1b9a-5bb0-4050-e4ac-813ba24e7e7c"
      },
      "execution_count": null,
      "outputs": [
        {
          "output_type": "stream",
          "name": "stderr",
          "text": [
            "WARNING:root:This is a warning message.\n",
            "ERROR:root:This is an error message.\n"
          ]
        }
      ]
    },
    {
      "cell_type": "markdown",
      "source": [
        "**Ques.8**Write a program to handle a file opening error using exception handling.\n",
        "\n",
        "**Ans.8** Use a try-except block to handle the FileNotFoundError:"
      ],
      "metadata": {
        "id": "_tuH0tvE1UtN"
      }
    },
    {
      "cell_type": "code",
      "source": [
        "try:\n",
        "    with open('non_existent_file.txt', 'r') as file:\n",
        "        content = file.read()\n",
        "except FileNotFoundError:\n",
        "    print(\"File not found.\")\n"
      ],
      "metadata": {
        "colab": {
          "base_uri": "https://localhost:8080/"
        },
        "id": "AzxFANCc2O1G",
        "outputId": "babe31bf-7f15-4665-f6f2-276abdcade73"
      },
      "execution_count": null,
      "outputs": [
        {
          "output_type": "stream",
          "name": "stdout",
          "text": [
            "File not found.\n"
          ]
        }
      ]
    },
    {
      "cell_type": "markdown",
      "source": [
        "**Ques.9** How can you read a file line by line and store its content in a list in Python?\n",
        "\n",
        "**Ans.9** Use a list comprehension to read and store each line:"
      ],
      "metadata": {
        "id": "dk3yQ0vo1Uol"
      }
    },
    {
      "cell_type": "code",
      "source": [
        "with open('file.txt', 'r') as file:\n",
        "    lines = [line.strip() for line in file]\n",
        "\n"
      ],
      "metadata": {
        "id": "2DOmgjXK2alG"
      },
      "execution_count": null,
      "outputs": []
    },
    {
      "cell_type": "markdown",
      "source": [
        "**Ques.10** How can you append data to an existing file in Python?\n",
        "\n",
        "**Ans.10** Use the open() function with the 'a' mode to append data:"
      ],
      "metadata": {
        "id": "WrOXXESv1UkO"
      }
    },
    {
      "cell_type": "code",
      "source": [
        "with open('file.txt', 'a') as file:\n",
        "    file.write('Appending new content.\\n')\n"
      ],
      "metadata": {
        "id": "Y6izQFWZ222H"
      },
      "execution_count": null,
      "outputs": []
    },
    {
      "cell_type": "markdown",
      "source": [
        "**Ques.11** Write a Python program that uses a try-except block to handle an error when attempting to access a dictionary key that doesn't exist.\n",
        "\n",
        "**Ques.11** Use a try-except block to handle the KeyError:"
      ],
      "metadata": {
        "id": "twf1x9Vt1Uam"
      }
    },
    {
      "cell_type": "code",
      "source": [
        "my_dict = {'key1': 'value1'}\n",
        "\n",
        "try:\n",
        "    value = my_dict['non_existent_key']\n",
        "except KeyError:\n",
        "    print(\"Key not found in the dictionary.\")\n"
      ],
      "metadata": {
        "id": "DDWTHo-fCHZo",
        "colab": {
          "base_uri": "https://localhost:8080/"
        },
        "outputId": "de5a6ddf-450f-43a9-9022-914dce989c02"
      },
      "execution_count": null,
      "outputs": [
        {
          "output_type": "stream",
          "name": "stdout",
          "text": [
            "Key not found in the dictionary.\n"
          ]
        }
      ]
    },
    {
      "cell_type": "markdown",
      "source": [
        "**Ques.12** Write a program that demonstrates using multiple except blocks to handle different types of exceptions.\n",
        "\n",
        "**Ans.12** Use multiple except blocks to handle different exceptions:"
      ],
      "metadata": {
        "id": "OChAZaz93E-t"
      }
    },
    {
      "cell_type": "code",
      "source": [
        "try:\n",
        "    result = 10 / 0\n",
        "    value = int(\"invalid\")\n",
        "except ZeroDivisionError:\n",
        "    print(\"Cannot divide by zero.\")\n",
        "except ValueError:\n",
        "    print(\"Invalid value.\")\n"
      ],
      "metadata": {
        "colab": {
          "base_uri": "https://localhost:8080/"
        },
        "id": "Raw9EdV43Amt",
        "outputId": "19dde97d-0380-42f8-a9a5-330064ede284"
      },
      "execution_count": null,
      "outputs": [
        {
          "output_type": "stream",
          "name": "stdout",
          "text": [
            "Cannot divide by zero.\n"
          ]
        }
      ]
    },
    {
      "cell_type": "markdown",
      "source": [
        "**Ques.13** How would you check if a file exists before attempting to read it in Python?"
      ],
      "metadata": {
        "id": "0ze5OeNp3Myu"
      }
    },
    {
      "cell_type": "code",
      "source": [
        "import os\n",
        "\n",
        "if os.path.exists('file.txt'):\n",
        "    with open('file.txt', 'r') as file:\n",
        "        content = file.read()\n",
        "else:\n",
        "    print(\"File does not exist.\")\n"
      ],
      "metadata": {
        "id": "NmUNrcZx3LWu"
      },
      "execution_count": null,
      "outputs": []
    },
    {
      "cell_type": "markdown",
      "source": [
        "**Ques.14** Write a program that uses the logging module to log both informational and error messages."
      ],
      "metadata": {
        "id": "WTJBIaWL3TTN"
      }
    },
    {
      "cell_type": "code",
      "source": [
        "import logging\n",
        "\n",
        "logging.basicConfig(level=logging.INFO)\n",
        "\n",
        "try:\n",
        "    result = 10 / 0\n",
        "except ZeroDivisionError as e:\n",
        "    logging.error(\"Division by zero error: %s\", e)\n",
        "\n",
        "logging.info(\"Program completed.\")\n"
      ],
      "metadata": {
        "colab": {
          "base_uri": "https://localhost:8080/"
        },
        "id": "sVuG5w3i3Rh-",
        "outputId": "d53b5bdd-65d2-407e-844c-9e0c760c336a"
      },
      "execution_count": null,
      "outputs": [
        {
          "output_type": "stream",
          "name": "stderr",
          "text": [
            "ERROR:root:Division by zero error: division by zero\n"
          ]
        }
      ]
    },
    {
      "cell_type": "markdown",
      "source": [
        "**Ques.15** Write a Python program that prints the content of a file and handles the case when the file is empty."
      ],
      "metadata": {
        "id": "8QvhtmBJ3gGv"
      }
    },
    {
      "cell_type": "code",
      "source": [
        "try:\n",
        "    with open('file.txt', 'r') as file:\n",
        "        content = file.read()\n",
        "        if not content:\n",
        "            print(\"File is empty.\")\n",
        "        else:\n",
        "            print(content)\n",
        "except FileNotFoundError:\n",
        "    print(\"File not found.\")\n"
      ],
      "metadata": {
        "colab": {
          "base_uri": "https://localhost:8080/"
        },
        "id": "ii8jmt2e3X2e",
        "outputId": "08f2103a-29a5-4407-9efa-20c900c0cf44"
      },
      "execution_count": null,
      "outputs": [
        {
          "output_type": "stream",
          "name": "stdout",
          "text": [
            "Appending new content.\n",
            "\n"
          ]
        }
      ]
    },
    {
      "cell_type": "markdown",
      "source": [
        "**Ques.16** Demonstrate how to use memory profiling to check the memory usage of a small program."
      ],
      "metadata": {
        "id": "wan6ovV63pTu"
      }
    },
    {
      "cell_type": "code",
      "source": [
        "from memory_profiler import profile\n",
        "\n",
        "@profile\n",
        "def my_func():\n",
        "    a = [i for i in range(100000)]\n",
        "    return a\n",
        "\n",
        "if __name__ == \"__main__\":\n",
        "    my_func()\n"
      ],
      "metadata": {
        "colab": {
          "base_uri": "https://localhost:8080/"
        },
        "id": "KFhklr-e3m3-",
        "outputId": "92b34a1f-b8de-4908-dde8-f5d77b8d6661"
      },
      "execution_count": null,
      "outputs": [
        {
          "output_type": "stream",
          "name": "stdout",
          "text": [
            "ERROR: Could not find file <ipython-input-15-71bd56d39043>\n",
            "NOTE: %mprun can only be used on functions defined in physical files, and not in the IPython environment.\n"
          ]
        }
      ]
    },
    {
      "cell_type": "markdown",
      "source": [
        "**Ques.17** Write a Python program to create and write a list of numbers to a file, one number per line."
      ],
      "metadata": {
        "id": "kF9virTR3oq2"
      }
    },
    {
      "cell_type": "code",
      "source": [
        "numbers = [1, 2, 3, 4, 5]\n",
        "\n",
        "with open('numbers.txt', 'w') as file:\n",
        "    for number in numbers:\n",
        "        file.write(f\"{number}\\n\")\n"
      ],
      "metadata": {
        "id": "P61tFT-F4Nqe"
      },
      "execution_count": null,
      "outputs": []
    },
    {
      "cell_type": "markdown",
      "source": [
        "**Ques.18** How would you implement a basic logging setup that logs to a file with rotation after 1MB?"
      ],
      "metadata": {
        "id": "y4g6541K4NI-"
      }
    },
    {
      "cell_type": "code",
      "source": [
        "import logging\n",
        "from logging.handlers import RotatingFileHandler\n",
        "\n",
        "handler = RotatingFileHandler('app.log', maxBytes=1048576, backupCount=5)\n",
        "logging.basicConfig(handlers=[handler], level=logging.INFO)\n",
        "\n",
        "logging.info(\"This is an info message.\")\n"
      ],
      "metadata": {
        "id": "xst_x48J4WYm"
      },
      "execution_count": null,
      "outputs": []
    },
    {
      "cell_type": "markdown",
      "source": [
        "**Ques.19** Write a program that handles both IndexError and KeyError using a try-except block."
      ],
      "metadata": {
        "id": "Lc_naJR74a8H"
      }
    },
    {
      "cell_type": "code",
      "source": [
        "my_list = [1, 2, 3]\n",
        "my_dict = {'key1': 'value1'}\n",
        "\n",
        "try:\n",
        "    value = my_list[5]\n",
        "    value = my_dict['non_existent_key']\n",
        "except IndexError:\n",
        "    print(\"Index out of range.\")\n",
        "except KeyError:\n",
        "    print(\"Key not found in the dictionary.\")\n"
      ],
      "metadata": {
        "colab": {
          "base_uri": "https://localhost:8080/"
        },
        "id": "tl1OeBlP4Ww-",
        "outputId": "1565b4ee-d6aa-4a7a-b6fa-b3f16cd2e335"
      },
      "execution_count": null,
      "outputs": [
        {
          "output_type": "stream",
          "name": "stdout",
          "text": [
            "Index out of range.\n"
          ]
        }
      ]
    },
    {
      "cell_type": "markdown",
      "source": [
        "**Ques.20** How would you open a file and read its contents using a context manager in Python?"
      ],
      "metadata": {
        "id": "sLT614LC4l9X"
      }
    },
    {
      "cell_type": "code",
      "source": [
        "with open('file.txt', 'r') as file:\n",
        "    content = file.read()\n",
        "    print(content)\n"
      ],
      "metadata": {
        "colab": {
          "base_uri": "https://localhost:8080/"
        },
        "id": "-g-zaBqa4gAO",
        "outputId": "65b98585-cebb-4d57-ff04-c159bd2cc958"
      },
      "execution_count": null,
      "outputs": [
        {
          "output_type": "stream",
          "name": "stdout",
          "text": [
            "Appending new content.\n",
            "\n"
          ]
        }
      ]
    },
    {
      "cell_type": "markdown",
      "source": [
        "**Ques.21** Write a Python program that reads a file and prints the number of occurrences of a specific word."
      ],
      "metadata": {
        "id": "UZFxAAX24z9d"
      }
    },
    {
      "cell_type": "code",
      "source": [
        "word_to_count = 'Python'\n",
        "\n",
        "with open('file.txt', 'r') as file:\n",
        "    content = file.read()\n",
        "    count = content.count(word_to_count)\n",
        "\n",
        "print(f\"The word '{word_to_count}' occurs {count} times.\")\n"
      ],
      "metadata": {
        "colab": {
          "base_uri": "https://localhost:8080/"
        },
        "id": "ttV9ta1B4p5O",
        "outputId": "e888c2fd-15e1-42af-8273-a7b21ab84a5b"
      },
      "execution_count": null,
      "outputs": [
        {
          "output_type": "stream",
          "name": "stdout",
          "text": [
            "The word 'Python' occurs 0 times.\n"
          ]
        }
      ]
    },
    {
      "cell_type": "markdown",
      "source": [
        "**Ques.22** How can you check if a file is empty before attempting to read its contents?"
      ],
      "metadata": {
        "id": "EwxaWbAQ5RLu"
      }
    },
    {
      "cell_type": "code",
      "source": [
        "import os\n",
        "\n",
        "if os.stat('file.txt').st_size == 0:\n",
        "    print(\"File is empty.\")\n",
        "else:\n",
        "    with open('file.txt', 'r') as file:\n",
        "        content = file.read()\n",
        "        print(content)\n"
      ],
      "metadata": {
        "colab": {
          "base_uri": "https://localhost:8080/"
        },
        "id": "6w95TdUN44Re",
        "outputId": "33b2f39b-6f1e-4fef-b6b3-5ee4141d9cfe"
      },
      "execution_count": null,
      "outputs": [
        {
          "output_type": "stream",
          "name": "stdout",
          "text": [
            "Appending new content.\n",
            "\n"
          ]
        }
      ]
    },
    {
      "cell_type": "markdown",
      "source": [
        "**Ques.23** Write a Python program that writes to a log file when an error occurs during file handling."
      ],
      "metadata": {
        "id": "6hfTbbNh5al2"
      }
    },
    {
      "cell_type": "code",
      "source": [
        "import logging\n",
        "\n",
        "# Configure logging\n",
        "logging.basicConfig(filename='file_errors.log', level=logging.ERROR,\n",
        "                    format='%(asctime)s - %(levelname)s - %(message)s')\n",
        "\n",
        "try:\n",
        "    with open('non_existent_file.txt', 'r') as file:\n",
        "        content = file.read()\n",
        "except FileNotFoundError as e:\n",
        "    logging.error(\"File not found error: %s\", e)\n",
        "except Exception as e:\n",
        "    logging.error(\"An unexpected error occurred: %s\", e)\n",
        "\n",
        "print(\"Program finished.\")\n"
      ],
      "metadata": {
        "colab": {
          "base_uri": "https://localhost:8080/"
        },
        "id": "SsqZnBvJ5VOO",
        "outputId": "61b7e701-22f5-4ece-f70c-3192e41e14dc"
      },
      "execution_count": null,
      "outputs": [
        {
          "output_type": "stream",
          "name": "stderr",
          "text": [
            "ERROR:root:File not found error: [Errno 2] No such file or directory: 'non_existent_file.txt'\n"
          ]
        },
        {
          "output_type": "stream",
          "name": "stdout",
          "text": [
            "Program finished.\n"
          ]
        }
      ]
    },
    {
      "cell_type": "code",
      "source": [],
      "metadata": {
        "id": "0o1M-qqe5dsu"
      },
      "execution_count": null,
      "outputs": []
    }
  ]
}